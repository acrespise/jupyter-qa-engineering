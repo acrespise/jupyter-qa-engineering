{
 "cells": [
  {
   "cell_type": "markdown",
   "id": "b71c7e89-fef0-4175-903d-6b2809c764ef",
   "metadata": {},
   "source": [
    "# Running Mocha tests from a Jupyter notebook\n",
    "\n",
    "This is an experiment for running Mocha tests from within a notebook. I don't think there is much utility to this methodology beyond perhaps having tests for code written to support your notebooks. \n",
    "\n",
    "you will need the following packages installed within the typescript-example project folder:\n",
    "\n",
    "    npm install mocha\n",
    "    npm install mocha-simple-html-reporter\n"
   ]
  },
  {
   "cell_type": "markdown",
   "id": "fd08f096-93c0-4f63-8b7c-96a23e430156",
   "metadata": {},
   "source": [
    "## Running Mocha tests with mochawesome reporting\n",
    "\n"
   ]
  },
  {
   "cell_type": "code",
   "execution_count": 1,
   "id": "dd3a0970-759e-4d48-bee8-a7c993393f69",
   "metadata": {},
   "outputs": [],
   "source": [
    "import Mocha from 'mocha';\n"
   ]
  },
  {
   "cell_type": "code",
   "execution_count": 2,
   "id": "62dcbae6-003c-47c7-9509-f344374e4706",
   "metadata": {},
   "outputs": [
    {
     "name": "stdout",
     "output_type": "stream",
     "text": [
      "The report is written in \"mocha-simple-html-report.html\" file.\n",
      "Success!!\n"
     ]
    }
   ],
   "source": [
    "const runMochaTests = () => {\n",
    "    return new Promise((resolve, reject) => {\n",
    "        const mocha = new Mocha({ \n",
    "            reporter: 'mocha-simple-html-reporter',\n",
    "            reporterOptions: {\n",
    "                output: 'mocha-simple-html-report.html',\n",
    "            }\n",
    "        });\n",
    "        mocha.addFile('mocha-test.ts')\n",
    "        mocha.run((failures) => {\n",
    "            if (failures) reject('Failure! At least one test is failed, check detailed execution report')\n",
    "            resolve(\"Success!!\")\n",
    "        });\n",
    "    });\n",
    "}\n",
    "\n",
    "// The value of the promise will be displayed in the cell's output \n",
    "await runMochaTests();"
   ]
  },
  {
   "cell_type": "markdown",
   "id": "bec140de-eb97-43f4-86bb-2fe5698e959f",
   "metadata": {},
   "source": [
    "<iframe src=\"report.html\" >"
   ]
  },
  {
   "cell_type": "markdown",
   "id": "35f915a3-5e0d-49fb-bb9f-9266047d55ac",
   "metadata": {},
   "source": [
    "## Test Results\n",
    "\n",
    "After opening the report, you will need to click \"Trust HTML\" at the top of the window in order for the report output to be trusted and completely functional.\n",
    "\n",
    "[See Simple HTML Report](mocha-simple-html-report.html)"
   ]
  }
 ],
 "metadata": {
  "kernelspec": {
   "display_name": "TypeScript",
   "language": "typescript",
   "name": "tslab"
  },
  "language_info": {
   "codemirror_mode": {
    "mode": "typescript",
    "name": "javascript",
    "typescript": true
   },
   "file_extension": ".ts",
   "mimetype": "text/typescript",
   "name": "typescript",
   "version": "3.7.2"
  }
 },
 "nbformat": 4,
 "nbformat_minor": 5
}
