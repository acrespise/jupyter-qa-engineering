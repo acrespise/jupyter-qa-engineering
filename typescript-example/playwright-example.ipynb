{
 "cells": [
  {
   "cell_type": "markdown",
   "id": "34df7005-4374-4bce-af16-c5bc6448d655",
   "metadata": {},
   "source": [
    "# Example Playwright Automation in Jupyter Notebook"
   ]
  },
  {
   "cell_type": "markdown",
   "id": "838ccbd7-b288-451e-a835-8cbe50cdb5c0",
   "metadata": {},
   "source": [
    "\n",
    "* create a node project for the playwright notebook\n",
    "    * make folder and cd into it\n",
    "    * npm init -y\n",
    "    * npm install playwright\n",
    "    * npx playwright install\n"
   ]
  },
  {
   "cell_type": "markdown",
   "id": "3f7a1f44-d888-4314-8c27-fffbde5c3d7d",
   "metadata": {
    "editable": true,
    "slideshow": {
     "slide_type": ""
    },
    "tags": []
   },
   "source": [
    "### To Do\n",
    "\n",
    "* Image Comparisons\n",
    "  * https://playwright.dev/docs/api/class-snapshotassertions\n",
    "  * https://playwright.dev/docs/test-snapshots\n",
    "* API Testing\n",
    "* It is reasonable to organize test suites in one or multiple notebooks?\n",
    "* Can the execution and exporting of a notebook be automated via a pipeline?\n",
    "* This implementation will leave the browser open when there is an error. Useful for debugging tests but not so useful if i can be run unsupervised in a pipeline."
   ]
  },
  {
   "cell_type": "markdown",
   "id": "6ab962cc-c932-4a05-bf0e-1f319a8b735a",
   "metadata": {
    "editable": true,
    "slideshow": {
     "slide_type": ""
    },
    "tags": []
   },
   "source": [
    "## Thoughts so far\n",
    "\n",
    "* a good tool for documenting exploratory testing.\n",
    "* provides built in documentation of the test and results which are easily shared\n",
    "* help someone learn to use playwright will out all of the nodejs ceremony\n",
    "* could be an outright replacement for tools like Postman for API testing\n",
    "* act as a mechanism for introducing someone to automated testing concepts and strategies\n",
    "* likely not useful for significant amounts of test automation due to\n",
    "  * purely linear nature of a notebook\n",
    "  * likely need of many notebooks for a suite of tests\n",
    "* each cell should be designed to be a complete test\n",
    "* there does not appear to be something akin to before, after, beforeall, afterall"
   ]
  },
  {
   "cell_type": "markdown",
   "id": "93c405d6-ae14-414c-9720-1ffb077e9c25",
   "metadata": {
    "editable": true,
    "slideshow": {
     "slide_type": ""
    },
    "tags": []
   },
   "source": [
    "### Import needed types"
   ]
  },
  {
   "cell_type": "code",
   "execution_count": 1,
   "id": "de86cb7c-aa29-40dc-a8e1-eea666a07e7f",
   "metadata": {},
   "outputs": [],
   "source": [
    "import fs from \"fs\";\n",
    "import * as tslab from \"tslab\";\n",
    "import { chromium, Browser, Page } from 'playwright';"
   ]
  },
  {
   "cell_type": "markdown",
   "id": "8c380d64-ab8d-4a1c-8006-dceeb4300e19",
   "metadata": {},
   "source": [
    "### Define constants for reuse"
   ]
  },
  {
   "cell_type": "code",
   "execution_count": 2,
   "id": "ba8079b9-5241-4d44-8735-a07f8d35416d",
   "metadata": {},
   "outputs": [],
   "source": [
    "const FOOTER_SCREENSHOT: string = 'screenshots/footer.png'\n",
    "const TODO_SCREENSHOT: string = 'screenshots/todos.png'\n",
    "const URL: string = 'https://example.cypress.io/todo'\n",
    "\n",
    "const FOOTER_LOCATOR: string = '.footer'\n",
    "const COOKIE_CONFIRMATION_ACCEPT_BUTTON_LOCATOR: string = '#hs-eu-confirmation-button'\n"
   ]
  },
  {
   "cell_type": "markdown",
   "id": "dc8fd376-ea50-4910-a751-16b8c71a275c",
   "metadata": {},
   "source": [
    "### Clean up any existing image files"
   ]
  },
  {
   "cell_type": "code",
   "execution_count": 3,
   "id": "b549fd22-2e2d-4f8f-88ab-fccebce1ebe8",
   "metadata": {},
   "outputs": [
    {
     "name": "stdout",
     "output_type": "stream",
     "text": [
      "remove file: screenshots/footer.png\n",
      "remove file: screenshots/todos.png\n"
     ]
    }
   ],
   "source": [
    "removeFileIfExists(FOOTER_SCREENSHOT)\n",
    "removeFileIfExists(TODO_SCREENSHOT)\n",
    "\n",
    "function removeFileIfExists(file: string){\n",
    "    if(fs.existsSync(file)){\n",
    "        console.log(`remove file: ${file}`)\n",
    "        fs.unlinkSync(file)\n",
    "    }\n",
    "}\n"
   ]
  },
  {
   "cell_type": "markdown",
   "id": "daadd9ea-2e62-4181-bdb6-e43d69def559",
   "metadata": {},
   "source": [
    "### Open the browser so that it is visible to the user"
   ]
  },
  {
   "cell_type": "code",
   "execution_count": 4,
   "id": "a21dafbc-0989-4452-ac15-5408183bb078",
   "metadata": {},
   "outputs": [],
   "source": [
    "const browser: Browser = await chromium.launch({ headless: false });\n",
    "const page: Page = await browser.newPage();"
   ]
  },
  {
   "cell_type": "markdown",
   "id": "552f9ba0-65d7-4d21-bf9d-fe9834b479ef",
   "metadata": {},
   "source": [
    "### Execute the Playwright script"
   ]
  },
  {
   "cell_type": "code",
   "execution_count": 5,
   "id": "f92d7580-c779-4e0e-8fb0-e53a42213494",
   "metadata": {
    "editable": true,
    "slideshow": {
     "slide_type": ""
    },
    "tags": []
   },
   "outputs": [
    {
     "name": "stdout",
     "output_type": "stream",
     "text": [
      "Running...\n",
      "navigating to https://example.cypress.io/todo\n",
      "capture footer...\n",
      "capture todos app...\n",
      "...Done\n"
     ]
    }
   ],
   "source": [
    "console.log(\"Running...\")\n",
    "\n",
    "console.log(`navigating to ${URL}`)\n",
    "await page.goto(URL);\n",
    "\n",
    "console.log(\"capture footer...\")\n",
    "await page.locator(FOOTER_LOCATOR)\n",
    "  .screenshot({ path: FOOTER_SCREENSHOT })\n",
    "\n",
    "//throw new Error(\"Example or an error\")\n",
    "\n",
    "console.log(\"capture todos app...\")\n",
    "await page.screenshot({ path: TODO_SCREENSHOT });\n",
    "\n",
    "console.log(\"...Done\")"
   ]
  },
  {
   "cell_type": "markdown",
   "id": "e2a93c8d-38c9-4f68-a7d2-042fad5cbca9",
   "metadata": {},
   "source": [
    "### Close Browser"
   ]
  },
  {
   "cell_type": "code",
   "execution_count": 6,
   "id": "d0ade7bc-7c57-4104-914c-f6366a228faa",
   "metadata": {
    "editable": true,
    "slideshow": {
     "slide_type": ""
    },
    "tags": []
   },
   "outputs": [],
   "source": [
    "await browser.close();"
   ]
  },
  {
   "cell_type": "markdown",
   "id": "03ca0640-b537-4d5f-9500-c17281f5b900",
   "metadata": {},
   "source": [
    "### Page screenshot"
   ]
  },
  {
   "cell_type": "code",
   "execution_count": 7,
   "id": "14fcb9a3-7566-46e1-b13c-013208fbc67f",
   "metadata": {
    "editable": true,
    "slideshow": {
     "slide_type": ""
    },
    "tags": []
   },
   "outputs": [
    {
     "data": {
      "image/png": "[encoded data removed]"
     },
     "metadata": {},
     "output_type": "display_data"
    }
   ],
   "source": [
    "tslab.display.png(fs.readFileSync(TODO_SCREENSHOT))"
   ]
  },
  {
   "cell_type": "markdown",
   "id": "33b81eda-6055-41be-a941-aa316a622946",
   "metadata": {
    "editable": true,
    "slideshow": {
     "slide_type": ""
    },
    "tags": []
   },
   "source": [
    "### Footer screenshot"
   ]
  },
  {
   "cell_type": "code",
   "execution_count": 8,
   "id": "85118376-271f-4f16-be6a-3e6d8966909f",
   "metadata": {
    "editable": true,
    "slideshow": {
     "slide_type": ""
    },
    "tags": []
   },
   "outputs": [
    {
     "data": {
      "image/png": "[encoded data removed]"
     },
     "metadata": {},
     "output_type": "display_data"
    }
   ],
   "source": [
    "tslab.display.png(fs.readFileSync(FOOTER_SCREENSHOT))"
   ]
  }
 ],
 "metadata": {
  "kernelspec": {
   "display_name": "TypeScript",
   "language": "typescript",
   "name": "tslab"
  },
  "language_info": {
   "codemirror_mode": {
    "mode": "typescript",
    "name": "javascript",
    "typescript": true
   },
   "file_extension": ".ts",
   "mimetype": "text/typescript",
   "name": "typescript",
   "version": "3.7.2"
  }
 },
 "nbformat": 4,
 "nbformat_minor": 5
}
