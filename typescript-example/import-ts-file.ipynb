{
 "cells": [
  {
   "cell_type": "markdown",
   "id": "488ee821-db60-4b2f-aded-a29ff81b9686",
   "metadata": {},
   "source": [
    "# Importing a class from .ts file"
   ]
  },
  {
   "cell_type": "code",
   "execution_count": 1,
   "id": "3383a907-bd0f-4008-9595-ea2a525b893c",
   "metadata": {},
   "outputs": [
    {
     "name": "stdout",
     "output_type": "stream",
     "text": [
      "Hello Sally!\n"
     ]
    }
   ],
   "source": [
    "import { User } from \"./User\"; \n",
    "let user: User = new User(); \n",
    "  \n",
    "// Calling the imported class function \n",
    "console.log(user.sayHello(\"Sally\"));"
   ]
  }
 ],
 "metadata": {
  "kernelspec": {
   "display_name": "TypeScript",
   "language": "typescript",
   "name": "tslab"
  },
  "language_info": {
   "codemirror_mode": {
    "mode": "typescript",
    "name": "javascript",
    "typescript": true
   },
   "file_extension": ".ts",
   "mimetype": "text/typescript",
   "name": "typescript",
   "version": "3.7.2"
  }
 },
 "nbformat": 4,
 "nbformat_minor": 5
}
