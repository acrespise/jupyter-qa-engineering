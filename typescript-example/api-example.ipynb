{
 "cells": [
  {
   "cell_type": "markdown",
   "id": "b71c7e89-fef0-4175-903d-6b2809c764ef",
   "metadata": {},
   "source": [
    "# API Testing from a Jupyter Notebook\n",
    "\n",
    "The intention here is to explore using a notebook to conduct automated testing of an API as an alternative to Postman. \n",
    "\n",
    "you will need the following packages installed within the typescript-example project folder:\n",
    "\n",
    "    npm install expect\n",
    "    npm install axios"
   ]
  },
  {
   "cell_type": "markdown",
   "id": "f511ff4c-8acc-4c60-94c7-a9967caf078b",
   "metadata": {},
   "source": [
    "## Basic GET request to a REST API"
   ]
  },
  {
   "cell_type": "code",
   "execution_count": 1,
   "id": "62dcbae6-003c-47c7-9509-f344374e4706",
   "metadata": {},
   "outputs": [
    {
     "name": "stderr",
     "output_type": "stream",
     "text": [
      "JestAssertionError: \u001b[2mexpect(\u001b[22m\u001b[31mreceived\u001b[39m\u001b[2m).\u001b[22mtoEqual\u001b[2m(\u001b[22m\u001b[32mexpected\u001b[39m\u001b[2m) // deep equality\u001b[22m\n",
      "\n",
      "Expected: \u001b[32m\"sandwich\"\u001b[39m\n",
      "Received: \u001b[31m\"cat\"\u001b[39m\n",
      "    at evalmachine.<anonymous>:24:68\n",
      "    at Array.forEach (<anonymous>)\n",
      "    at evalmachine.<anonymous>:24:15\n",
      "\u001b[90m    at process.processTicksAndRejections (node:internal/process/task_queues:95:5)\u001b[39m\n",
      "    at async Object.execute (C:\\Users\\alexc_38gcuj7\\AppData\\Roaming\\npm\\node_modules\\\u001b[4mtslab\u001b[24m\\dist\\executor.js:173:17)\n",
      "    at async JupyterHandlerImpl.handleExecuteImpl (C:\\Users\\alexc_38gcuj7\\AppData\\Roaming\\npm\\node_modules\\\u001b[4mtslab\u001b[24m\\dist\\jupyter.js:223:18)\n",
      "    at async JupyterHandlerImpl.handleExecute (C:\\Users\\alexc_38gcuj7\\AppData\\Roaming\\npm\\node_modules\\\u001b[4mtslab\u001b[24m\\dist\\jupyter.js:181:21)\n",
      "    at async ZmqServer.handleExecute (C:\\Users\\alexc_38gcuj7\\AppData\\Roaming\\npm\\node_modules\\\u001b[4mtslab\u001b[24m\\dist\\jupyter.js:379:25)\n",
      "    at async ZmqServer.handleShellMessage (C:\\Users\\alexc_38gcuj7\\AppData\\Roaming\\npm\\node_modules\\\u001b[4mtslab\u001b[24m\\dist\\jupyter.js:324:21) {\n",
      "  matcherResult: {\n",
      "    actual: \u001b[32m'cat'\u001b[39m,\n",
      "    expected: \u001b[32m'sandwich'\u001b[39m,\n",
      "    message: \u001b[32m'\\x1B[2mexpect(\\x1B[22m\\x1B[31mreceived\\x1B[39m\\x1B[2m).\\x1B[22mtoEqual\\x1B[2m(\\x1B[22m\\x1B[32mexpected\\x1B[39m\\x1B[2m) // deep equality\\x1B[22m\\n'\u001b[39m +\n",
      "      \u001b[32m'\\n'\u001b[39m +\n",
      "      \u001b[32m'Expected: \\x1B[32m\"sandwich\"\\x1B[39m\\n'\u001b[39m +\n",
      "      \u001b[32m'Received: \\x1B[31m\"cat\"\\x1B[39m'\u001b[39m,\n",
      "    name: \u001b[32m'toEqual'\u001b[39m,\n",
      "    pass: \u001b[33mfalse\u001b[39m\n",
      "  }\n",
      "}\n"
     ]
    }
   ],
   "source": [
    "import axios from 'axios';\n",
    "import expect from 'expect';\n",
    "\n",
    "const options = {\n",
    "  method: 'GET',\n",
    "  url: 'https://cat-fact.herokuapp.com/facts/',\n",
    "  params: {},\n",
    "  headers: {}\n",
    "};\n",
    "\n",
    "\n",
    "const response = await axios.request(options);\n",
    "\n",
    "response.data.forEach( animal=> expect(animal.type).toEqual(\"cat\"))\n",
    "\n",
    "//the following will fail\n",
    "response.data.forEach( animal=> expect(animal.type).toEqual(\"sandwich\"))\n"
   ]
  },
  {
   "cell_type": "code",
   "execution_count": null,
   "id": "0c3b4c98-393b-4b76-ade2-5d5f451df947",
   "metadata": {},
   "outputs": [],
   "source": []
  }
 ],
 "metadata": {
  "kernelspec": {
   "display_name": "TypeScript",
   "language": "typescript",
   "name": "tslab"
  },
  "language_info": {
   "codemirror_mode": {
    "mode": "typescript",
    "name": "javascript",
    "typescript": true
   },
   "file_extension": ".ts",
   "mimetype": "text/typescript",
   "name": "typescript",
   "version": "3.7.2"
  }
 },
 "nbformat": 4,
 "nbformat_minor": 5
}
