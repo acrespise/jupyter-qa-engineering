{
 "cells": [
  {
   "cell_type": "markdown",
   "id": "b71c7e89-fef0-4175-903d-6b2809c764ef",
   "metadata": {},
   "source": [
    "# Running Mocha tests from a Jupyter notebook\n",
    "\n",
    "This is an experiment for running Mocha tests from within a notebook. I don't think there is much utility to this methodology beyond perhaps having tests for code written to support your notebooks. \n",
    "\n",
    "npm install mocha"
   ]
  },
  {
   "cell_type": "markdown",
   "id": "fd08f096-93c0-4f63-8b7c-96a23e430156",
   "metadata": {},
   "source": [
    "## Running Mocha tests programatically\n",
    "\n",
    "Generally mocha can be invoked programmatically as follows:\n",
    "\n",
    "    const mocha = new Mocha({ reporter: 'spec' });\n",
    "    mocha.addFile('mocha-test.ts')\n",
    "    mocha.run()\n",
    "\n",
    "However, the mocha.run() call is asynchronous and the notebook will immediately continue and exectute the next cell. Eventually the mocha results are displayed but within the output of the following cells not the cell is was executed within. \n",
    "\n",
    "To handle this complication, we wrap the mocha execution within a Promise and invoke using await. This will cause the cell's execution to block and wait for the completion of the promise ensuring the mocha results are displayed within the output for this cell."
   ]
  },
  {
   "cell_type": "code",
   "execution_count": 1,
   "id": "dd3a0970-759e-4d48-bee8-a7c993393f69",
   "metadata": {},
   "outputs": [],
   "source": [
    "import Mocha from 'mocha';"
   ]
  },
  {
   "cell_type": "code",
   "execution_count": 2,
   "id": "62dcbae6-003c-47c7-9509-f344374e4706",
   "metadata": {},
   "outputs": [
    {
     "name": "stdout",
     "output_type": "stream",
     "text": [
      "\n",
      "\u001b[0m\u001b[0m\n",
      "\u001b[0m  Array\u001b[0m\n",
      "\u001b[0m    #indexOf()\u001b[0m\n",
      "    \u001b[32m  \u001b[32m✔\u001b[39m\u001b[0m\u001b[90m should return -1 when the value is not present\u001b[0m\n",
      "\n",
      "\n",
      "\u001b[92m \u001b[0m\u001b[32m 1 passing\u001b[0m\u001b[90m (7ms)\u001b[0m\n",
      "\n",
      "Success!!\n"
     ]
    }
   ],
   "source": [
    "const runMochaTests = () => {\n",
    "    return new Promise((resolve, reject) => {\n",
    "        const mocha = new Mocha({ reporter: 'spec' });\n",
    "        mocha.addFile('mocha-test.ts')\n",
    "        mocha.run((failures) => {\n",
    "            if (failures) reject('Failure! At least one test is failed, check detailed execution report')\n",
    "            resolve(\"Success!!\")\n",
    "        });\n",
    "    });\n",
    "}\n",
    "\n",
    "// The value of the promise will be displayed in the cell's output \n",
    "await runMochaTests();"
   ]
  },
  {
   "cell_type": "markdown",
   "id": "6f68eafb-48e2-40fa-9b50-2ea11041b116",
   "metadata": {},
   "source": [
    "### Avoid running Mocha twice within a notebook\n",
    "\n",
    "Mocha maintains some internal state that is not easily cleared. If you try to run tests again then you will not see the results you expect. In this case, you will see that there are zero passing tests. It's likely not worth the complications to try to solve for this limitation within a single notebook.\n"
   ]
  },
  {
   "cell_type": "code",
   "execution_count": 3,
   "id": "522d37ef-1eec-414a-b078-9f8c07ace9bd",
   "metadata": {},
   "outputs": [
    {
     "name": "stdout",
     "output_type": "stream",
     "text": [
      "\n",
      "\n",
      "\u001b[92m \u001b[0m\u001b[32m 0 passing\u001b[0m\u001b[90m (0ms)\u001b[0m\n",
      "\n",
      "Success!!\n"
     ]
    }
   ],
   "source": [
    "const runMochaTestsJson = () => {\n",
    "    return new Promise((resolve, reject) => {\n",
    "        const mocha = new Mocha({ \n",
    "            reporter: 'spec', \n",
    "        });\n",
    "        mocha.addFile('mocha-test.ts')\n",
    "        mocha.run((failures) => {\n",
    "            if (failures) reject('Failure! At least one test is failed, check detailed execution report')\n",
    "            resolve(\"Success!!\")\n",
    "        });\n",
    "    });\n",
    "}\n",
    "\n",
    "// The value of the promise will be displayed in the cell's output \n",
    "await runMochaTestsJson();"
   ]
  },
  {
   "cell_type": "code",
   "execution_count": null,
   "id": "fc6ee93d-1da1-4ec2-96bd-b6c3e29a2ed2",
   "metadata": {},
   "outputs": [],
   "source": []
  }
 ],
 "metadata": {
  "kernelspec": {
   "display_name": "TypeScript",
   "language": "typescript",
   "name": "tslab"
  },
  "language_info": {
   "codemirror_mode": {
    "mode": "typescript",
    "name": "javascript",
    "typescript": true
   },
   "file_extension": ".ts",
   "mimetype": "text/typescript",
   "name": "typescript",
   "version": "3.7.2"
  }
 },
 "nbformat": 4,
 "nbformat_minor": 5
}
